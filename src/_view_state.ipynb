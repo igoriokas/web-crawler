{
 "cells": [
  {
   "cell_type": "code",
   "execution_count": 1,
   "metadata": {},
   "outputs": [],
   "source": [
    "import pandas as pd\n",
    "import sqlite3\n",
    "import os\n",
    "import time\n",
    "import glob\n",
    "# import counter\n",
    "import matplotlib.pyplot as plt\n",
    "from IPython.display import clear_output\n",
    "\n",
    "# if not os.getcwd().endswith('/run'):\n",
    "#     os.chdir('run')\n",
    "\n",
    "RUN_FOLDER = 'data-quotes'\n",
    "DBNAME = f\"{RUN_FOLDER}/state.db\""
   ]
  },
  {
   "cell_type": "code",
   "execution_count": 22,
   "metadata": {},
   "outputs": [
    {
     "data": {
      "text/plain": [
       "0.713"
      ]
     },
     "metadata": {},
     "output_type": "display_data"
    },
    {
     "data": {
      "text/plain": [
       "attempt           1.200\n",
       "fetch_duration    0.713\n",
       "total_duration    0.754\n",
       "dtype: float64"
      ]
     },
     "execution_count": 22,
     "metadata": {},
     "output_type": "execute_result"
    }
   ],
   "source": [
    "with sqlite3.connect(DBNAME) as conn:\n",
    "    df = pd.read_sql(\"SELECT attempt, fetch_duration, total_duration FROM attempts WHERE status = 200\", conn)\n",
    "# display(df.mean())\n",
    "display(float(df['fetch_duration'].mean().round(3)))\n",
    "df.mean().round(3)"
   ]
  },
  {
   "cell_type": "code",
   "execution_count": 3,
   "metadata": {},
   "outputs": [],
   "source": [
    "# with sqlite3.connect(DBNAME) as conn:\n",
    "#     db_words_count = pd.read_sql(\"SELECT * FROM words ORDER BY count DESC, word ASC\", conn)\n",
    "# db_words_count[:10]"
   ]
  },
  {
   "cell_type": "code",
   "execution_count": 4,
   "metadata": {},
   "outputs": [
    {
     "name": "stdout",
     "output_type": "stream",
     "text": [
      "                                        error  count\n",
      "PageException(Non-Retryable HTTP error [404])      1\n",
      "  PageException(simulated page parsing error)      1\n"
     ]
    }
   ],
   "source": [
    "with sqlite3.connect(DBNAME) as conn:\n",
    "    df = pd.read_sql(\"SELECT * FROM pages\", conn)\n",
    "\n",
    "df = df.groupby('error')['sid'].count().to_frame().sort_values('sid', ascending=False).reset_index()\n",
    "df = df.rename(columns={'sid':'count'})\n",
    "print(df.to_string(index=False))\n"
   ]
  },
  {
   "cell_type": "code",
   "execution_count": 10,
   "metadata": {},
   "outputs": [
    {
     "data": {
      "text/html": [
       "<div>\n",
       "<style scoped>\n",
       "    .dataframe tbody tr th:only-of-type {\n",
       "        vertical-align: middle;\n",
       "    }\n",
       "\n",
       "    .dataframe tbody tr th {\n",
       "        vertical-align: top;\n",
       "    }\n",
       "\n",
       "    .dataframe thead th {\n",
       "        text-align: right;\n",
       "    }\n",
       "</style>\n",
       "<table border=\"1\" class=\"dataframe\">\n",
       "  <thead>\n",
       "    <tr style=\"text-align: right;\">\n",
       "      <th></th>\n",
       "      <th>sid</th>\n",
       "    </tr>\n",
       "    <tr>\n",
       "      <th>error</th>\n",
       "      <th></th>\n",
       "    </tr>\n",
       "  </thead>\n",
       "  <tbody>\n",
       "    <tr>\n",
       "      <th>PageException(Non-Retryable HTTP error [404])</th>\n",
       "      <td>1</td>\n",
       "    </tr>\n",
       "    <tr>\n",
       "      <th>PageException(simulated page parsing error)</th>\n",
       "      <td>1</td>\n",
       "    </tr>\n",
       "  </tbody>\n",
       "</table>\n",
       "</div>"
      ],
      "text/plain": [
       "                                               sid\n",
       "error                                             \n",
       "PageException(Non-Retryable HTTP error [404])    1\n",
       "PageException(simulated page parsing error)      1"
      ]
     },
     "metadata": {},
     "output_type": "display_data"
    },
    {
     "data": {
      "text/html": [
       "<div>\n",
       "<style scoped>\n",
       "    .dataframe tbody tr th:only-of-type {\n",
       "        vertical-align: middle;\n",
       "    }\n",
       "\n",
       "    .dataframe tbody tr th {\n",
       "        vertical-align: top;\n",
       "    }\n",
       "\n",
       "    .dataframe thead th {\n",
       "        text-align: right;\n",
       "    }\n",
       "</style>\n",
       "<table border=\"1\" class=\"dataframe\">\n",
       "  <thead>\n",
       "    <tr style=\"text-align: right;\">\n",
       "      <th></th>\n",
       "      <th>sid</th>\n",
       "    </tr>\n",
       "    <tr>\n",
       "      <th>status</th>\n",
       "      <th></th>\n",
       "    </tr>\n",
       "  </thead>\n",
       "  <tbody>\n",
       "    <tr>\n",
       "      <th>failed</th>\n",
       "      <td>2</td>\n",
       "    </tr>\n",
       "    <tr>\n",
       "      <th>visited</th>\n",
       "      <td>9</td>\n",
       "    </tr>\n",
       "    <tr>\n",
       "      <th>queued</th>\n",
       "      <td>199</td>\n",
       "    </tr>\n",
       "  </tbody>\n",
       "</table>\n",
       "</div>"
      ],
      "text/plain": [
       "         sid\n",
       "status      \n",
       "failed     2\n",
       "visited    9\n",
       "queued   199"
      ]
     },
     "metadata": {},
     "output_type": "display_data"
    },
    {
     "name": "stdout",
     "output_type": "stream",
     "text": [
      "pages files: 9\n",
      " text files: 9\n",
      " word files: 9\n"
     ]
    },
    {
     "data": {
      "text/html": [
       "<div>\n",
       "<style scoped>\n",
       "    .dataframe tbody tr th:only-of-type {\n",
       "        vertical-align: middle;\n",
       "    }\n",
       "\n",
       "    .dataframe tbody tr th {\n",
       "        vertical-align: top;\n",
       "    }\n",
       "\n",
       "    .dataframe thead th {\n",
       "        text-align: right;\n",
       "    }\n",
       "</style>\n",
       "<table border=\"1\" class=\"dataframe\">\n",
       "  <thead>\n",
       "    <tr style=\"text-align: right;\">\n",
       "      <th></th>\n",
       "      <th>word</th>\n",
       "      <th>count</th>\n",
       "    </tr>\n",
       "  </thead>\n",
       "  <tbody>\n",
       "    <tr>\n",
       "      <th>0</th>\n",
       "      <td>to</td>\n",
       "      <td>183</td>\n",
       "    </tr>\n",
       "    <tr>\n",
       "      <th>1</th>\n",
       "      <td>in</td>\n",
       "      <td>169</td>\n",
       "    </tr>\n",
       "    <tr>\n",
       "      <th>2</th>\n",
       "      <td>add</td>\n",
       "      <td>167</td>\n",
       "    </tr>\n",
       "    <tr>\n",
       "      <th>3</th>\n",
       "      <td>basket</td>\n",
       "      <td>158</td>\n",
       "    </tr>\n",
       "    <tr>\n",
       "      <th>4</th>\n",
       "      <td>stock</td>\n",
       "      <td>158</td>\n",
       "    </tr>\n",
       "    <tr>\n",
       "      <th>5</th>\n",
       "      <td>â</td>\n",
       "      <td>158</td>\n",
       "    </tr>\n",
       "    <tr>\n",
       "      <th>6</th>\n",
       "      <td>the</td>\n",
       "      <td>65</td>\n",
       "    </tr>\n",
       "    <tr>\n",
       "      <th>7</th>\n",
       "      <td>fiction</td>\n",
       "      <td>63</td>\n",
       "    </tr>\n",
       "    <tr>\n",
       "      <th>8</th>\n",
       "      <td>and</td>\n",
       "      <td>46</td>\n",
       "    </tr>\n",
       "    <tr>\n",
       "      <th>9</th>\n",
       "      <td>a</td>\n",
       "      <td>37</td>\n",
       "    </tr>\n",
       "  </tbody>\n",
       "</table>\n",
       "</div>"
      ],
      "text/plain": [
       "      word  count\n",
       "0       to    183\n",
       "1       in    169\n",
       "2      add    167\n",
       "3   basket    158\n",
       "4    stock    158\n",
       "5        â    158\n",
       "6      the     65\n",
       "7  fiction     63\n",
       "8      and     46\n",
       "9        a     37"
      ]
     },
     "metadata": {},
     "output_type": "display_data"
    },
    {
     "name": "stdout",
     "output_type": "stream",
     "text": [
      "Files word count identical to DB word count - True\n"
     ]
    }
   ],
   "source": [
    "with sqlite3.connect(DBNAME) as conn:\n",
    "    df = pd.read_sql(\"SELECT * FROM pages\", conn)\n",
    "    db_words_count = pd.read_sql(\"SELECT * FROM words ORDER BY count DESC, word ASC\", conn)\n",
    "\n",
    "display(df.groupby('error')['sid'].count().to_frame().sort_values('sid', ascending=False))\n",
    "display(df.groupby('status')['sid'].count().to_frame().sort_values('sid'))\n",
    "\n",
    "print(f'pages files: {len(glob.glob(f'{RUN_FOLDER}/pages/**/*.*', recursive=True))}')\n",
    "print(f' text files: {len(glob.glob(f'{RUN_FOLDER}/text/**/*.*', recursive=True))}')\n",
    "print(f' word files: {len(glob.glob(f'{RUN_FOLDER}/words/**/*.*', recursive=True))}')\n",
    "\n",
    "total_word_count, _ = counter.summ_counters_folder(f'{RUN_FOLDER}/words')\n",
    "total_word_count_df = pd.DataFrame(total_word_count.items(), columns=['word','count']).sort_values(['count', 'word'], ascending=[False, True]).reset_index(drop=True)\n",
    "display(total_word_count_df[:10])\n",
    "print(f'Files word count identical to DB word count - {db_words_count.equals(total_word_count_df)}')"
   ]
  },
  {
   "cell_type": "code",
   "execution_count": 6,
   "metadata": {},
   "outputs": [
    {
     "data": {
      "image/png": "[encoded data removed]",
      "text/plain": [
       "<Figure size 800x150 with 1 Axes>"
      ]
     },
     "metadata": {},
     "output_type": "display_data"
    }
   ],
   "source": [
    "def draw_progress_bar():\n",
    "    clear_output(wait=True)\n",
    "    \n",
    "    with sqlite3.connect(DBNAME) as conn:\n",
    "        df = pd.read_sql(\"SELECT * FROM pages\", conn)\n",
    "\n",
    "    # counts\n",
    "    counts = df['status'].value_counts()\n",
    "    visited = counts.get('visited', 0)\n",
    "    failed = counts.get('failed', 0)\n",
    "    queued = counts.get('queued', 0)\n",
    "    done = visited + failed\n",
    "    total = done + queued\n",
    "    \n",
    "    fig, ax = plt.subplots(figsize=(8, 1.5))\n",
    "    ax.barh(0, visited, color='green', label=f'Visited: {visited} ({visited/total:.0%})')\n",
    "    ax.barh(0, failed, left=visited, color='red', label=f'Failed : {failed} ({failed/total:.0%})')\n",
    "    ax.barh(0, queued, left=done, color='orange', label=f'Queued : {queued} ({queued/total:.0%})')\n",
    "\n",
    "    ax.set_title(f\"Crawling Progress: {done} of {total} pages\", fontsize=12, pad=5)\n",
    "    ax.legend(loc='lower center', bbox_to_anchor=(0.5, -0.5), ncol=3, fontsize=10, frameon=False)\n",
    "    ax.set_xlim(0, total)\n",
    "    ax.set_yticks([])\n",
    "    ax.set_xticks([])\n",
    "    ax.set_frame_on(False)\n",
    " \n",
    "    plt.subplots_adjust(bottom=0.3)\n",
    "    plt.tight_layout()\n",
    "    plt.show()\n",
    "    return queued\n",
    "\n",
    "_ = draw_progress_bar()"
   ]
  },
  {
   "cell_type": "code",
   "execution_count": 7,
   "metadata": {},
   "outputs": [
    {
     "data": {
      "image/png": "[encoded data removed]",
      "text/plain": [
       "<Figure size 800x150 with 1 Axes>"
      ]
     },
     "metadata": {},
     "output_type": "display_data"
    },
    {
     "ename": "KeyboardInterrupt",
     "evalue": "",
     "output_type": "error",
     "traceback": [
      "\u001b[31m---------------------------------------------------------------------------\u001b[39m",
      "\u001b[31mKeyboardInterrupt\u001b[39m                         Traceback (most recent call last)",
      "\u001b[36mCell\u001b[39m\u001b[36m \u001b[39m\u001b[32mIn[7]\u001b[39m\u001b[32m, line 2\u001b[39m\n\u001b[32m      1\u001b[39m \u001b[38;5;28;01mwhile\u001b[39;00m draw_progress_bar():\n\u001b[32m----> \u001b[39m\u001b[32m2\u001b[39m     \u001b[43mtime\u001b[49m\u001b[43m.\u001b[49m\u001b[43msleep\u001b[49m\u001b[43m(\u001b[49m\u001b[32;43m1\u001b[39;49m\u001b[43m)\u001b[49m\n",
      "\u001b[31mKeyboardInterrupt\u001b[39m: "
     ]
    }
   ],
   "source": [
    "while draw_progress_bar():\n",
    "    time.sleep(1)"
   ]
  },
  {
   "cell_type": "code",
   "execution_count": null,
   "metadata": {},
   "outputs": [],
   "source": []
  }
 ],
 "metadata": {
  "kernelspec": {
   "display_name": "py13",
   "language": "python",
   "name": "python3"
  },
  "language_info": {
   "codemirror_mode": {
    "name": "ipython",
    "version": 3
   },
   "file_extension": ".py",
   "mimetype": "text/x-python",
   "name": "python",
   "nbconvert_exporter": "python",
   "pygments_lexer": "ipython3",
   "version": "3.13.5"
  }
 },
 "nbformat": 4,
 "nbformat_minor": 2
}
