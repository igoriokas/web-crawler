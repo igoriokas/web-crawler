{
 "cells": [
  {
   "cell_type": "code",
   "execution_count": 1,
   "metadata": {},
   "outputs": [],
   "source": [
    "import logging\n",
    "import logging.config\n",
    "import yaml\n",
    "\n",
    "# Load config from YAML\n",
    "with open(\"logging_config.yaml\", 'r') as f:\n",
    "    config = yaml.safe_load(f)\n",
    "\n",
    "# Apply logging configuration\n",
    "logging.config.dictConfig(config)\n"
   ]
  },
  {
   "cell_type": "code",
   "execution_count": 5,
   "metadata": {},
   "outputs": [],
   "source": [
    "import pandas as pd\n",
    "import sqlite3\n",
    "import os\n",
    "from state import CrawlerState\n",
    "\n",
    "if not os.getcwd().endswith('/run'):\n",
    "    os.chdir('run')\n",
    "\n",
    "DBNAME = 'state.db'"
   ]
  },
  {
   "cell_type": "code",
   "execution_count": 6,
   "metadata": {},
   "outputs": [
    {
     "name": "stdout",
     "output_type": "stream",
     "text": [
      "0\n",
      "1\n",
      "1\n",
      "1\n",
      "2\n",
      "2\n",
      "3\n"
     ]
    }
   ],
   "source": [
    "! rm -f state.db\n",
    "\n",
    "with CrawlerState() as state:\n",
    "    print(state.len())\n",
    "    state.enqueue_url('myurl1',1)\n",
    "    print(state.len())\n",
    "    state.enqueue_url('myurl1',1)\n",
    "    print(state.len())\n",
    "    state.enqueue_url('myurl1',1)\n",
    "    print(state.len())\n",
    "    state.enqueue_url('myurl2',1)\n",
    "    print(state.len())\n",
    "    state.enqueue_url('myurl2',1)\n",
    "    print(state.len())\n",
    "    state.enqueue_url('myurl3',1)\n",
    "    print(state.len())\n"
   ]
  },
  {
   "cell_type": "code",
   "execution_count": 7,
   "metadata": {},
   "outputs": [
    {
     "data": {
      "text/html": [
       "<div>\n",
       "<style scoped>\n",
       "    .dataframe tbody tr th:only-of-type {\n",
       "        vertical-align: middle;\n",
       "    }\n",
       "\n",
       "    .dataframe tbody tr th {\n",
       "        vertical-align: top;\n",
       "    }\n",
       "\n",
       "    .dataframe thead th {\n",
       "        text-align: right;\n",
       "    }\n",
       "</style>\n",
       "<table border=\"1\" class=\"dataframe\">\n",
       "  <thead>\n",
       "    <tr style=\"text-align: right;\">\n",
       "      <th></th>\n",
       "      <th>sid</th>\n",
       "      <th>url</th>\n",
       "      <th>depth</th>\n",
       "      <th>status</th>\n",
       "      <th>retries</th>\n",
       "      <th>inserted_at</th>\n",
       "      <th>last_attempt</th>\n",
       "    </tr>\n",
       "  </thead>\n",
       "  <tbody>\n",
       "    <tr>\n",
       "      <th>0</th>\n",
       "      <td>1</td>\n",
       "      <td>myurl1</td>\n",
       "      <td>1</td>\n",
       "      <td>queued</td>\n",
       "      <td>0</td>\n",
       "      <td>2025-07-07 19:51:28</td>\n",
       "      <td>None</td>\n",
       "    </tr>\n",
       "    <tr>\n",
       "      <th>1</th>\n",
       "      <td>2</td>\n",
       "      <td>myurl2</td>\n",
       "      <td>1</td>\n",
       "      <td>queued</td>\n",
       "      <td>0</td>\n",
       "      <td>2025-07-07 19:51:28</td>\n",
       "      <td>None</td>\n",
       "    </tr>\n",
       "    <tr>\n",
       "      <th>2</th>\n",
       "      <td>3</td>\n",
       "      <td>myurl3</td>\n",
       "      <td>1</td>\n",
       "      <td>queued</td>\n",
       "      <td>0</td>\n",
       "      <td>2025-07-07 19:51:28</td>\n",
       "      <td>None</td>\n",
       "    </tr>\n",
       "  </tbody>\n",
       "</table>\n",
       "</div>"
      ],
      "text/plain": [
       "   sid     url  depth  status  retries          inserted_at last_attempt\n",
       "0    1  myurl1      1  queued        0  2025-07-07 19:51:28         None\n",
       "1    2  myurl2      1  queued        0  2025-07-07 19:51:28         None\n",
       "2    3  myurl3      1  queued        0  2025-07-07 19:51:28         None"
      ]
     },
     "execution_count": 7,
     "metadata": {},
     "output_type": "execute_result"
    }
   ],
   "source": [
    "with sqlite3.connect(DBNAME) as conn:\n",
    "    df = pd.read_sql(\"SELECT * FROM pages\", conn)\n",
    "df"
   ]
  },
  {
   "cell_type": "code",
   "execution_count": 8,
   "metadata": {},
   "outputs": [
    {
     "data": {
      "text/html": [
       "<div>\n",
       "<style scoped>\n",
       "    .dataframe tbody tr th:only-of-type {\n",
       "        vertical-align: middle;\n",
       "    }\n",
       "\n",
       "    .dataframe tbody tr th {\n",
       "        vertical-align: top;\n",
       "    }\n",
       "\n",
       "    .dataframe thead th {\n",
       "        text-align: right;\n",
       "    }\n",
       "</style>\n",
       "<table border=\"1\" class=\"dataframe\">\n",
       "  <thead>\n",
       "    <tr style=\"text-align: right;\">\n",
       "      <th></th>\n",
       "      <th>sid</th>\n",
       "      <th>url</th>\n",
       "      <th>depth</th>\n",
       "      <th>status</th>\n",
       "      <th>retries</th>\n",
       "      <th>inserted_at</th>\n",
       "      <th>last_attempt</th>\n",
       "    </tr>\n",
       "  </thead>\n",
       "  <tbody>\n",
       "  </tbody>\n",
       "</table>\n",
       "</div>"
      ],
      "text/plain": [
       "Empty DataFrame\n",
       "Columns: [sid, url, depth, status, retries, inserted_at, last_attempt]\n",
       "Index: []"
      ]
     },
     "execution_count": 8,
     "metadata": {},
     "output_type": "execute_result"
    }
   ],
   "source": [
    "with sqlite3.connect(DBNAME) as conn:\n",
    "    df = pd.read_sql(\"SELECT * FROM pages WHERE status = 'failed'\", conn)\n",
    "df"
   ]
  },
  {
   "cell_type": "code",
   "execution_count": null,
   "metadata": {},
   "outputs": [],
   "source": []
  }
 ],
 "metadata": {
  "kernelspec": {
   "display_name": "py13",
   "language": "python",
   "name": "python3"
  },
  "language_info": {
   "codemirror_mode": {
    "name": "ipython",
    "version": 3
   },
   "file_extension": ".py",
   "mimetype": "text/x-python",
   "name": "python",
   "nbconvert_exporter": "python",
   "pygments_lexer": "ipython3",
   "version": "3.13.2"
  }
 },
 "nbformat": 4,
 "nbformat_minor": 2
}
