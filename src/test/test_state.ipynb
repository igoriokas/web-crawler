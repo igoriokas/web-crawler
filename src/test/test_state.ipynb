{
 "cells": [
  {
   "cell_type": "code",
   "execution_count": null,
   "metadata": {},
   "outputs": [],
   "source": [
    "import logging\n",
    "import logging.config\n",
    "import yaml\n",
    "\n",
    "# Load config from YAML\n",
    "with open(\"logging.yaml\", 'r') as f:\n",
    "    config = yaml.safe_load(f)\n",
    "\n",
    "config['handlers']['file']['filename'] = 'WORK/log.log' \n",
    "config\n",
    "\n",
    "# Apply logging configuration\n",
    "# logging.config.dictConfig(config)\n"
   ]
  },
  {
   "cell_type": "code",
   "execution_count": 5,
   "metadata": {},
   "outputs": [],
   "source": [
    "import pandas as pd\n",
    "import sqlite3\n",
    "import os\n",
    "from state import CrawlerState\n",
    "\n",
    "if not os.getcwd().endswith('/run'):\n",
    "    os.chdir('run')\n",
    "\n",
    "DBNAME = 'state.db'"
   ]
  },
  {
   "cell_type": "code",
   "execution_count": null,
   "metadata": {},
   "outputs": [],
   "source": [
    "! rm -f state.db\n",
    "\n",
    "with CrawlerState() as state:\n",
    "    print(state.len())\n",
    "    state.enqueue_url('myurl1',1)\n",
    "    print(state.len())\n",
    "    state.enqueue_url('myurl1',1)\n",
    "    print(state.len())\n",
    "    state.enqueue_url('myurl1',1)\n",
    "    print(state.len())\n",
    "    state.enqueue_url('myurl2',1)\n",
    "    print(state.len())\n",
    "    state.enqueue_url('myurl2',1)\n",
    "    print(state.len())\n",
    "    state.enqueue_url('myurl3',1)\n",
    "    print(state.len())\n"
   ]
  },
  {
   "cell_type": "code",
   "execution_count": null,
   "metadata": {},
   "outputs": [],
   "source": [
    "with sqlite3.connect(DBNAME) as conn:\n",
    "    df = pd.read_sql(\"SELECT * FROM pages\", conn)\n",
    "df"
   ]
  },
  {
   "cell_type": "code",
   "execution_count": null,
   "metadata": {},
   "outputs": [],
   "source": [
    "with sqlite3.connect(DBNAME) as conn:\n",
    "    df = pd.read_sql(\"SELECT * FROM pages WHERE status = 'failed'\", conn)\n",
    "df"
   ]
  },
  {
   "cell_type": "code",
   "execution_count": null,
   "metadata": {},
   "outputs": [],
   "source": [
    "import re\n",
    "def strip_trailing_slashes(url):\n",
    "    return url.rstrip('/')\n",
    "\n",
    "print(strip_trailing_slashes('https://example.com//'))         # 'https://example.com'\n",
    "print(strip_trailing_slashes('https://example.com/foo///'))   # 'https://example.com/foo'\n",
    "print(strip_trailing_slashes('https://example.com/foo'))      # 'https://example.com/foo'\n",
    "print(strip_trailing_slashes('https://example.com'))          # 'https://example.com'"
   ]
  },
  {
   "cell_type": "code",
   "execution_count": null,
   "metadata": {},
   "outputs": [],
   "source": []
  }
 ],
 "metadata": {
  "kernelspec": {
   "display_name": "py13",
   "language": "python",
   "name": "python3"
  },
  "language_info": {
   "codemirror_mode": {
    "name": "ipython",
    "version": 3
   },
   "file_extension": ".py",
   "mimetype": "text/x-python",
   "name": "python",
   "nbconvert_exporter": "python",
   "pygments_lexer": "ipython3",
   "version": "3.13.2"
  }
 },
 "nbformat": 4,
 "nbformat_minor": 2
}
