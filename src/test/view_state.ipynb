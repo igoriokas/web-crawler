{
 "cells": [
  {
   "cell_type": "code",
   "execution_count": 1,
   "metadata": {},
   "outputs": [],
   "source": [
    "import pandas as pd\n",
    "import sqlite3\n",
    "import os\n",
    "import time\n",
    "import glob\n",
    "# import counter\n",
    "import matplotlib.pyplot as plt\n",
    "from IPython.display import clear_output\n",
    "\n",
    "# if not os.getcwd().endswith('/run'):\n",
    "#     os.chdir('run')\n",
    "\n",
    "RUN_FOLDER = '../data-books'\n",
    "DBNAME = f\"{RUN_FOLDER}/state.db\""
   ]
  },
  {
   "cell_type": "code",
   "execution_count": null,
   "metadata": {},
   "outputs": [],
   "source": [
    "with sqlite3.connect(DBNAME) as conn:\n",
    "    df = pd.read_sql(\"SELECT sid, attempt FROM attempts\", conn)\n",
    "# display(df.mean())\n",
    "df.groupby('sid').count().mean().round(2)['attempt']"
   ]
  },
  {
   "cell_type": "code",
   "execution_count": null,
   "metadata": {},
   "outputs": [],
   "source": [
    "with sqlite3.connect(DBNAME) as conn:\n",
    "    df = pd.read_sql(\"SELECT sid, attempt, status, fetch_duration, total_duration FROM attempts WHERE status = 200 and total_duration > 0\", conn)\n",
    "df"
   ]
  },
  {
   "cell_type": "code",
   "execution_count": null,
   "metadata": {},
   "outputs": [],
   "source": [
    "df.describe()"
   ]
  },
  {
   "cell_type": "code",
   "execution_count": 5,
   "metadata": {},
   "outputs": [],
   "source": [
    "# with sqlite3.connect(DBNAME) as conn:\n",
    "#     db_words_count = pd.read_sql(\"SELECT * FROM words ORDER BY count DESC, word ASC\", conn)\n",
    "# db_words_count[:10]"
   ]
  },
  {
   "cell_type": "code",
   "execution_count": null,
   "metadata": {},
   "outputs": [],
   "source": [
    "with sqlite3.connect(DBNAME) as conn:\n",
    "    df = pd.read_sql(\"SELECT * FROM pages\", conn)\n",
    "\n",
    "df = df.groupby('error')['sid'].count().to_frame().sort_values('sid', ascending=False).reset_index()\n",
    "df = df.rename(columns={'sid':'count'})\n",
    "print(df.to_string(index=False))\n"
   ]
  },
  {
   "cell_type": "code",
   "execution_count": null,
   "metadata": {},
   "outputs": [],
   "source": [
    "with sqlite3.connect(DBNAME) as conn:\n",
    "    df = pd.read_sql(\"SELECT * FROM pages\", conn)\n",
    "    db_words_count = pd.read_sql(\"SELECT * FROM words ORDER BY count DESC, word ASC\", conn)\n",
    "\n",
    "display(df.groupby('error')['sid'].count().to_frame().sort_values('sid', ascending=False))\n",
    "display(df.groupby('status')['sid'].count().to_frame().sort_values('sid'))\n",
    "\n",
    "print(f'pages files: {len(glob.glob(f'{RUN_FOLDER}/pages/**/*.*', recursive=True))}')\n",
    "print(f' text files: {len(glob.glob(f'{RUN_FOLDER}/text/**/*.*', recursive=True))}')\n",
    "print(f' word files: {len(glob.glob(f'{RUN_FOLDER}/words/**/*.*', recursive=True))}')\n",
    "\n",
    "total_word_count, _ = counter.summ_counters_folder(f'{RUN_FOLDER}/words')\n",
    "total_word_count_df = pd.DataFrame(total_word_count.items(), columns=['word','count']).sort_values(['count', 'word'], ascending=[False, True]).reset_index(drop=True)\n",
    "display(total_word_count_df[:10])\n",
    "print(f'Files word count identical to DB word count - {db_words_count.equals(total_word_count_df)}')"
   ]
  },
  {
   "cell_type": "code",
   "execution_count": null,
   "metadata": {},
   "outputs": [],
   "source": [
    "def draw_progress_bar():\n",
    "    clear_output(wait=True)\n",
    "    \n",
    "    with sqlite3.connect(DBNAME) as conn:\n",
    "        df = pd.read_sql(\"SELECT * FROM pages\", conn)\n",
    "\n",
    "    # counts\n",
    "    counts = df['status'].value_counts()\n",
    "    visited = counts.get('visited', 0)\n",
    "    failed = counts.get('failed', 0)\n",
    "    queued = counts.get('queued', 0)\n",
    "    done = visited + failed\n",
    "    total = done + queued\n",
    "    \n",
    "    fig, ax = plt.subplots(figsize=(8, 1.5))\n",
    "    ax.barh(0, visited, color='green', label=f'Visited: {visited} ({visited/total:.0%})')\n",
    "    ax.barh(0, failed, left=visited, color='red', label=f'Failed : {failed} ({failed/total:.0%})')\n",
    "    ax.barh(0, queued, left=done, color='orange', label=f'Queued : {queued} ({queued/total:.0%})')\n",
    "\n",
    "    ax.set_title(f\"Crawling Progress: {done} of {total} pages\", fontsize=12, pad=5)\n",
    "    ax.legend(loc='lower center', bbox_to_anchor=(0.5, -0.5), ncol=3, fontsize=10, frameon=False)\n",
    "    ax.set_xlim(0, total)\n",
    "    ax.set_yticks([])\n",
    "    ax.set_xticks([])\n",
    "    ax.set_frame_on(False)\n",
    " \n",
    "    plt.subplots_adjust(bottom=0.3)\n",
    "    plt.tight_layout()\n",
    "    plt.show()\n",
    "    return queued\n",
    "\n",
    "_ = draw_progress_bar()"
   ]
  },
  {
   "cell_type": "code",
   "execution_count": null,
   "metadata": {},
   "outputs": [],
   "source": [
    "while draw_progress_bar():\n",
    "    time.sleep(1)"
   ]
  },
  {
   "cell_type": "code",
   "execution_count": null,
   "metadata": {},
   "outputs": [],
   "source": []
  }
 ],
 "metadata": {
  "kernelspec": {
   "display_name": "py13",
   "language": "python",
   "name": "python3"
  },
  "language_info": {
   "codemirror_mode": {
    "name": "ipython",
    "version": 3
   },
   "file_extension": ".py",
   "mimetype": "text/x-python",
   "name": "python",
   "nbconvert_exporter": "python",
   "pygments_lexer": "ipython3",
   "version": "3.13.5"
  }
 },
 "nbformat": 4,
 "nbformat_minor": 2
}
