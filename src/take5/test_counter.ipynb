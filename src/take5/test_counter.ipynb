{
 "cells": [
  {
   "cell_type": "code",
   "execution_count": 17,
   "metadata": {},
   "outputs": [],
   "source": [
    "import re\n",
    "import math\n",
    "import json\n",
    "from collections import Counter"
   ]
  },
  {
   "cell_type": "code",
   "execution_count": 10,
   "metadata": {},
   "outputs": [],
   "source": [
    "def count_words(text):\n",
    "    words = re.findall(r'\\b\\w+\\b', text.lower())\n",
    "    return Counter(words)"
   ]
  },
  {
   "cell_type": "code",
   "execution_count": 19,
   "metadata": {},
   "outputs": [
    {
     "data": {
      "text/plain": [
       "[('the', 2),\n",
       " ('4545', 2),\n",
       " ('a', 1),\n",
       " ('b', 1),\n",
       " ('fdfd', 1),\n",
       " ('fgfg', 1),\n",
       " ('ggg', 1),\n",
       " ('dsda', 1)]"
      ]
     },
     "execution_count": 19,
     "metadata": {},
     "output_type": "execute_result"
    }
   ],
   "source": [
    "count_words('a b fdfd the    fgfg\\n\\t ggg\\n the  dsda 4545 4545').most_common()"
   ]
  },
  {
   "cell_type": "code",
   "execution_count": 15,
   "metadata": {},
   "outputs": [],
   "source": [
    "def shannon_entropy(word):\n",
    "    length = len(word)\n",
    "    if length == 0:\n",
    "        return 0\n",
    "    counts = Counter(word)\n",
    "    value = -sum((count / length) * math.log2(count / length) for count in counts.values())\n",
    "    print(f\"{word:20s} -> {value:.2f}\")\n",
    "    return value"
   ]
  },
  {
   "cell_type": "code",
   "execution_count": 16,
   "metadata": {},
   "outputs": [
    {
     "name": "stdout",
     "output_type": "stream",
     "text": [
      "password             -> 2.75\n",
      "Welcome              -> 2.52\n",
      "a                    -> -0.00\n",
      "Adidas               -> 2.25\n",
      "strategy             -> 2.75\n",
      "b8d7b3f5c7a95d65     -> 3.33\n",
      "d069086944f2e330     -> 3.20\n"
     ]
    }
   ],
   "source": [
    "shannon_entropy('password')\n",
    "shannon_entropy('Welcome')\n",
    "shannon_entropy('a')\n",
    "shannon_entropy('Adidas')\n",
    "shannon_entropy('strategy')\n",
    "shannon_entropy('b8d7b3f5c7a95d65')\n",
    "shannon_entropy('d069086944f2e330')\n",
    "pass\n"
   ]
  },
  {
   "cell_type": "code",
   "execution_count": 27,
   "metadata": {},
   "outputs": [
    {
     "name": "stdout",
     "output_type": "stream",
     "text": [
      "{\n",
      "\"hello\":\"你好\",\n",
      "\"yes\":1,\n",
      "\"no\":2,\n",
      "\"שלום\":{\n",
      "\"a\":10,\n",
      "\"b\":20\n",
      "}\n",
      "}\n"
     ]
    }
   ],
   "source": [
    "data = {\n",
    "    \"hello\": \"你好\",\n",
    "    \"yes\": 1,\n",
    "    \"no\": 2,\n",
    "    \"שלום\": {\"a\": 10, \"b\": 20}\n",
    "}\n",
    "\n",
    "print(json.dumps(data, indent='', separators=(',', ':'), ensure_ascii=False))"
   ]
  },
  {
   "cell_type": "code",
   "execution_count": null,
   "metadata": {},
   "outputs": [],
   "source": []
  }
 ],
 "metadata": {
  "kernelspec": {
   "display_name": "py13",
   "language": "python",
   "name": "python3"
  },
  "language_info": {
   "codemirror_mode": {
    "name": "ipython",
    "version": 3
   },
   "file_extension": ".py",
   "mimetype": "text/x-python",
   "name": "python",
   "nbconvert_exporter": "python",
   "pygments_lexer": "ipython3",
   "version": "3.13.2"
  }
 },
 "nbformat": 4,
 "nbformat_minor": 2
}
