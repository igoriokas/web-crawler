{
 "cells": [
  {
   "cell_type": "code",
   "execution_count": 1,
   "metadata": {},
   "outputs": [],
   "source": [
    "import pandas as pd\n",
    "import sqlite3\n",
    "import os\n",
    "import time\n",
    "import glob\n",
    "import counter\n",
    "import matplotlib.pyplot as plt\n",
    "from IPython.display import clear_output\n",
    "\n",
    "# if not os.getcwd().endswith('/run'):\n",
    "#     os.chdir('run')\n",
    "\n",
    "RUN_FOLDER = 'run'\n",
    "DBNAME = f\"{RUN_FOLDER}/state.db\""
   ]
  },
  {
   "cell_type": "code",
   "execution_count": 2,
   "metadata": {},
   "outputs": [],
   "source": [
    "# with sqlite3.connect(DBNAME) as conn:\n",
    "#     df = pd.read_sql(\"SELECT * FROM pages\", conn)\n",
    "# df"
   ]
  },
  {
   "cell_type": "code",
   "execution_count": 3,
   "metadata": {},
   "outputs": [],
   "source": [
    "# with sqlite3.connect(DBNAME) as conn:\n",
    "#     db_words_count = pd.read_sql(\"SELECT * FROM words ORDER BY count DESC, word ASC\", conn)\n",
    "# db_words_count[:10]"
   ]
  },
  {
   "cell_type": "code",
   "execution_count": 4,
   "metadata": {},
   "outputs": [
    {
     "data": {
      "text/html": [
       "<div>\n",
       "<style scoped>\n",
       "    .dataframe tbody tr th:only-of-type {\n",
       "        vertical-align: middle;\n",
       "    }\n",
       "\n",
       "    .dataframe tbody tr th {\n",
       "        vertical-align: top;\n",
       "    }\n",
       "\n",
       "    .dataframe thead th {\n",
       "        text-align: right;\n",
       "    }\n",
       "</style>\n",
       "<table border=\"1\" class=\"dataframe\">\n",
       "  <thead>\n",
       "    <tr style=\"text-align: right;\">\n",
       "      <th></th>\n",
       "      <th>sid</th>\n",
       "    </tr>\n",
       "    <tr>\n",
       "      <th>error</th>\n",
       "      <th></th>\n",
       "    </tr>\n",
       "  </thead>\n",
       "  <tbody>\n",
       "    <tr>\n",
       "      <th>PageException(simulated page parsing error)</th>\n",
       "      <td>31</td>\n",
       "    </tr>\n",
       "    <tr>\n",
       "      <th>PageException(Non-Retryable HTTP error [404])</th>\n",
       "      <td>11</td>\n",
       "    </tr>\n",
       "    <tr>\n",
       "      <th>PageException(Non-Retryable HTTP error [501])</th>\n",
       "      <td>9</td>\n",
       "    </tr>\n",
       "    <tr>\n",
       "      <th>PageException(Non-Retryable HTTP error [403])</th>\n",
       "      <td>7</td>\n",
       "    </tr>\n",
       "    <tr>\n",
       "      <th>RetryableError(Retryable HTTP error [500])</th>\n",
       "      <td>1</td>\n",
       "    </tr>\n",
       "  </tbody>\n",
       "</table>\n",
       "</div>"
      ],
      "text/plain": [
       "                                               sid\n",
       "error                                             \n",
       "PageException(simulated page parsing error)     31\n",
       "PageException(Non-Retryable HTTP error [404])   11\n",
       "PageException(Non-Retryable HTTP error [501])    9\n",
       "PageException(Non-Retryable HTTP error [403])    7\n",
       "RetryableError(Retryable HTTP error [500])       1"
      ]
     },
     "metadata": {},
     "output_type": "display_data"
    },
    {
     "data": {
      "text/html": [
       "<div>\n",
       "<style scoped>\n",
       "    .dataframe tbody tr th:only-of-type {\n",
       "        vertical-align: middle;\n",
       "    }\n",
       "\n",
       "    .dataframe tbody tr th {\n",
       "        vertical-align: top;\n",
       "    }\n",
       "\n",
       "    .dataframe thead th {\n",
       "        text-align: right;\n",
       "    }\n",
       "</style>\n",
       "<table border=\"1\" class=\"dataframe\">\n",
       "  <thead>\n",
       "    <tr style=\"text-align: right;\">\n",
       "      <th></th>\n",
       "      <th>sid</th>\n",
       "    </tr>\n",
       "    <tr>\n",
       "      <th>status</th>\n",
       "      <th></th>\n",
       "    </tr>\n",
       "  </thead>\n",
       "  <tbody>\n",
       "    <tr>\n",
       "      <th>failed</th>\n",
       "      <td>59</td>\n",
       "    </tr>\n",
       "    <tr>\n",
       "      <th>visited</th>\n",
       "      <td>466</td>\n",
       "    </tr>\n",
       "  </tbody>\n",
       "</table>\n",
       "</div>"
      ],
      "text/plain": [
       "         sid\n",
       "status      \n",
       "failed    59\n",
       "visited  466"
      ]
     },
     "metadata": {},
     "output_type": "display_data"
    },
    {
     "name": "stdout",
     "output_type": "stream",
     "text": [
      "pages files: 466\n",
      " text files: 466\n",
      " word files: 466\n"
     ]
    },
    {
     "data": {
      "text/html": [
       "<div>\n",
       "<style scoped>\n",
       "    .dataframe tbody tr th:only-of-type {\n",
       "        vertical-align: middle;\n",
       "    }\n",
       "\n",
       "    .dataframe tbody tr th {\n",
       "        vertical-align: top;\n",
       "    }\n",
       "\n",
       "    .dataframe thead th {\n",
       "        text-align: right;\n",
       "    }\n",
       "</style>\n",
       "<table border=\"1\" class=\"dataframe\">\n",
       "  <thead>\n",
       "    <tr style=\"text-align: right;\">\n",
       "      <th></th>\n",
       "      <th>word</th>\n",
       "      <th>count</th>\n",
       "    </tr>\n",
       "  </thead>\n",
       "  <tbody>\n",
       "    <tr>\n",
       "      <th>0</th>\n",
       "      <td>the</td>\n",
       "      <td>7386</td>\n",
       "    </tr>\n",
       "    <tr>\n",
       "      <th>1</th>\n",
       "      <td>to</td>\n",
       "      <td>6694</td>\n",
       "    </tr>\n",
       "    <tr>\n",
       "      <th>2</th>\n",
       "      <td>in</td>\n",
       "      <td>5874</td>\n",
       "    </tr>\n",
       "    <tr>\n",
       "      <th>3</th>\n",
       "      <td>â</td>\n",
       "      <td>5473</td>\n",
       "    </tr>\n",
       "    <tr>\n",
       "      <th>4</th>\n",
       "      <td>and</td>\n",
       "      <td>5066</td>\n",
       "    </tr>\n",
       "    <tr>\n",
       "      <th>5</th>\n",
       "      <td>of</td>\n",
       "      <td>4412</td>\n",
       "    </tr>\n",
       "    <tr>\n",
       "      <th>6</th>\n",
       "      <td>a</td>\n",
       "      <td>4094</td>\n",
       "    </tr>\n",
       "    <tr>\n",
       "      <th>7</th>\n",
       "      <td>stock</td>\n",
       "      <td>3948</td>\n",
       "    </tr>\n",
       "    <tr>\n",
       "      <th>8</th>\n",
       "      <td>add</td>\n",
       "      <td>3210</td>\n",
       "    </tr>\n",
       "    <tr>\n",
       "      <th>9</th>\n",
       "      <td>basket</td>\n",
       "      <td>3132</td>\n",
       "    </tr>\n",
       "  </tbody>\n",
       "</table>\n",
       "</div>"
      ],
      "text/plain": [
       "     word  count\n",
       "0     the   7386\n",
       "1      to   6694\n",
       "2      in   5874\n",
       "3       â   5473\n",
       "4     and   5066\n",
       "5      of   4412\n",
       "6       a   4094\n",
       "7   stock   3948\n",
       "8     add   3210\n",
       "9  basket   3132"
      ]
     },
     "metadata": {},
     "output_type": "display_data"
    },
    {
     "name": "stdout",
     "output_type": "stream",
     "text": [
      "Files word count identical to DB word count - True\n"
     ]
    }
   ],
   "source": [
    "with sqlite3.connect(DBNAME) as conn:\n",
    "    df = pd.read_sql(\"SELECT * FROM pages\", conn)\n",
    "    db_words_count = pd.read_sql(\"SELECT * FROM words ORDER BY count DESC, word ASC\", conn)\n",
    "\n",
    "display(df.groupby('error')['sid'].count().to_frame().sort_values('sid', ascending=False))\n",
    "display(df.groupby('status')['sid'].count().to_frame().sort_values('sid'))\n",
    "\n",
    "print(f'pages files: {len(glob.glob(f'{RUN_FOLDER}/words/**/*.*', recursive=True))}')\n",
    "print(f' text files: {len(glob.glob(f'{RUN_FOLDER}/words/**/*.*', recursive=True))}')\n",
    "print(f' word files: {len(glob.glob(f'{RUN_FOLDER}/words/**/*.*', recursive=True))}')\n",
    "\n",
    "total_word_count, _ = counter.summ_counters_folder(f'{RUN_FOLDER}/words')\n",
    "total_word_count_df = pd.DataFrame(total_word_count.items(), columns=['word','count']).sort_values(['count', 'word'], ascending=[False, True]).reset_index(drop=True)\n",
    "display(total_word_count_df[:10])\n",
    "print(f'Files word count identical to DB word count - {db_words_count.equals(total_word_count_df)}')"
   ]
  },
  {
   "cell_type": "code",
   "execution_count": 7,
   "metadata": {},
   "outputs": [
    {
     "data": {
      "image/png": "[encoded data removed]",
      "text/plain": [
       "<Figure size 800x150 with 1 Axes>"
      ]
     },
     "metadata": {},
     "output_type": "display_data"
    }
   ],
   "source": [
    "def draw_progress_bar():\n",
    "    clear_output(wait=True)\n",
    "    \n",
    "    with sqlite3.connect(DBNAME) as conn:\n",
    "        df = pd.read_sql(\"SELECT * FROM pages\", conn)\n",
    "\n",
    "    # counts\n",
    "    counts = df['status'].value_counts()\n",
    "    visited = counts.get('visited', 0)\n",
    "    failed = counts.get('failed', 0)\n",
    "    queued = counts.get('queued', 0)\n",
    "    done = visited + failed\n",
    "    total = done + queued\n",
    "    \n",
    "    fig, ax = plt.subplots(figsize=(8, 1.5))\n",
    "    ax.barh(0, visited, color='green', label=f'Visited: {visited} ({visited/total:.0%})')\n",
    "    ax.barh(0, failed, left=visited, color='red', label=f'Failed : {failed} ({failed/total:.0%})')\n",
    "    ax.barh(0, queued, left=done, color='orange', label=f'Queued : {queued} ({queued/total:.0%})')\n",
    "\n",
    "    ax.set_title(f\"Crawling Progress: {done} of {total} pages\", fontsize=12, pad=5)\n",
    "    ax.legend(loc='lower center', bbox_to_anchor=(0.5, -0.5), ncol=3, fontsize=10, frameon=False)\n",
    "    ax.set_xlim(0, total)\n",
    "    ax.set_yticks([])\n",
    "    ax.set_xticks([])\n",
    "    ax.set_frame_on(False)\n",
    " \n",
    "    plt.subplots_adjust(bottom=0.3)\n",
    "    plt.tight_layout()\n",
    "    plt.show()\n",
    "    return queued\n",
    "\n",
    "_ = draw_progress_bar()"
   ]
  },
  {
   "cell_type": "code",
   "execution_count": 8,
   "metadata": {},
   "outputs": [
    {
     "data": {
      "image/png": "[encoded data removed]",
      "text/plain": [
       "<Figure size 800x150 with 1 Axes>"
      ]
     },
     "metadata": {},
     "output_type": "display_data"
    }
   ],
   "source": [
    "while draw_progress_bar():\n",
    "    time.sleep(1)"
   ]
  },
  {
   "cell_type": "code",
   "execution_count": null,
   "metadata": {},
   "outputs": [],
   "source": []
  }
 ],
 "metadata": {
  "kernelspec": {
   "display_name": "py13",
   "language": "python",
   "name": "python3"
  },
  "language_info": {
   "codemirror_mode": {
    "name": "ipython",
    "version": 3
   },
   "file_extension": ".py",
   "mimetype": "text/x-python",
   "name": "python",
   "nbconvert_exporter": "python",
   "pygments_lexer": "ipython3",
   "version": "3.13.2"
  }
 },
 "nbformat": 4,
 "nbformat_minor": 2
}
